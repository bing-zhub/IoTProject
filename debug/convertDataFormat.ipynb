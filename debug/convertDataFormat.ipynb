{
 "cells": [
  {
   "cell_type": "code",
   "execution_count": 1,
   "metadata": {},
   "outputs": [
    {
     "data": {
      "text/plain": [
       "'{\"humi\":\"undefined\",\"temp\":\"undefined\",\"dist\":\"undefined\",\"heartbeat\":\"10240152\"}'"
      ]
     },
     "execution_count": 1,
     "metadata": {},
     "output_type": "execute_result"
    }
   ],
   "source": [
    "def getMessage(raw):\n",
    "    message = ''\n",
    "    for _ in raw.split(' '):\n",
    "        message+=chr(int(_,16))\n",
    "    return message\n",
    "\n",
    "getMessage('7b 22 68 75 6d 69 22 3a 22 75 6e 64 65 66 69 6e 65 64 22 2c 22 74 65 6d 70 22 3a 22 75 6e 64 65 66 69 6e 65 64 22 2c 22 64 69 73 74 22 3a 22 75 6e 64 65 66 69 6e 65 64 22 2c 22 68 65 61 72 74 62 65 61 74 22 3a 22 31 30 32 34 30 31 35 32 22 7d')"
   ]
  },
  {
   "cell_type": "code",
   "execution_count": null,
   "metadata": {
    "collapsed": true
   },
   "outputs": [],
   "source": []
  }
 ],
 "metadata": {
  "kernelspec": {
   "display_name": "Python 3",
   "language": "python",
   "name": "python3"
  },
  "language_info": {
   "codemirror_mode": {
    "name": "ipython",
    "version": 3
   },
   "file_extension": ".py",
   "mimetype": "text/x-python",
   "name": "python",
   "nbconvert_exporter": "python",
   "pygments_lexer": "ipython3",
   "version": "3.6.3"
  }
 },
 "nbformat": 4,
 "nbformat_minor": 2
}
